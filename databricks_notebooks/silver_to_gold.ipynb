{
 "cells": [
  {
   "cell_type": "markdown",
   "metadata": {},
   "source": [
    "# Silver to Gold Transformation\n",
    "Aggregate and prepare data for analytics in Gold layer."
   ]
  },
  {
   "cell_type": "code",
   "execution_count": null,
   "metadata": {},
   "outputs": [],
   "source": [
    "# Load Silver data\n",
    "silver_df = spark.read.format(\"parquet\").load(\"/mnt/adls/silver/SalesLT/Customer\")"
   ]
  },
  {
   "cell_type": "code",
   "execution_count": null,
   "metadata": {},
   "outputs": [],
   "source": [
    "# Example: Count customers by company name\n",
    "gold_df = silver_df.groupBy(\"CompanyName\").count()"
   ]
  },
  {
   "cell_type": "code",
   "execution_count": null,
   "metadata": {},
   "outputs": [],
   "source": [
    "# Write to Gold\n",
    "gold_df.write.mode(\"overwrite\").format(\"delta\").save(\"/mnt/adls/gold/SalesLT/CustomerCountByCompany\")"
   ]
  }
 ],
 "metadata": {
  "language_info": {
   "name": "python"
  }
 },
 "nbformat": 4,
 "nbformat_minor": 4
}
