{
 "cells": [
  {
   "cell_type": "markdown",
   "metadata": {},
   "source": [
    "# Bronze to Silver Transformation\n",
    "Transform raw customer data from Bronze to clean Silver layer."
   ]
  },
  {
   "cell_type": "code",
   "execution_count": null,
   "metadata": {},
   "outputs": [],
   "source": [
    "# Load Bronze data\n",
    "bronze_df = spark.read.format(\"csv\").option(\"header\", \"true\").load(\"/mnt/adls/bronze/SalesLT/Customer.csv\")\n",
    "bronze_df.printSchema()\n"
   ]
  },
  {
   "cell_type": "code",
   "execution_count": null,
   "metadata": {},
   "outputs": [],
   "source": [
    "# Clean data: drop nulls and cast types\n",
    "silver_df = bronze_df.dropna(subset=[\"CustomerID\", \"FirstName\", \"LastName\"])\n",
    "silver_df = silver_df.withColumn(\"CustomerID\", bronze_df[\"CustomerID\"].cast(\"int\"))\n"
   ]
  },
  {
   "cell_type": "code",
   "execution_count": null,
   "metadata": {},
   "outputs": [],
   "source": [
    "# Write to Silver\n",
    "silver_df.write.mode(\"overwrite\").format(\"parquet\").save(\"/mnt/adls/silver/SalesLT/Customer\")"
   ]
  }
 ],
 "metadata": {
  "language_info": {
   "name": "python"
  }
 },
 "nbformat": 4,
 "nbformat_minor": 4
}
